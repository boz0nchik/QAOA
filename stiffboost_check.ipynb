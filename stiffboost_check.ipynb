{
 "cells": [
  {
   "cell_type": "code",
   "execution_count": 124,
   "id": "35c2f70b",
   "metadata": {},
   "outputs": [],
   "source": [
    "from solver import Solver \n",
    "import pennylane as qml \n",
    "from pennylane import numpy as np\n",
    "from preparator import Preparator"
   ]
  },
  {
   "cell_type": "code",
   "execution_count": 243,
   "id": "b4684d66",
   "metadata": {},
   "outputs": [],
   "source": [
    "def _stiff_boost (Q : np.ndarray, alpha : float = 100.0):\n",
    "      \n",
    "\n",
    "        S = np.linalg.eig(Q)[1].T\n",
    "\n",
    "        stiffed_diag = np.linalg.eigvals(Q)\n",
    "        mini = 0 \n",
    "        maxi = 0\n",
    "\n",
    "        for i in range (len(stiffed_diag)): \n",
    "\n",
    "            if (np.allclose(np.abs(stiffed_diag[i]),np.max(np.abs(stiffed_diag)))):\n",
    "                maxi = i\n",
    "                stiffed_diag[i] *= alpha \n",
    "            if (np.allclose(np.abs(stiffed_diag[i]),np.min(np.abs(stiffed_diag)))):\n",
    "                mini = i\n",
    "                stiffed_diag[i] /= alpha\n",
    "\n",
    "\n",
    "        D = np.diag(stiffed_diag)\n",
    "\n",
    "        T = np.diag([1.0] * S.shape[0])\n",
    "\n",
    "        T[mini,mini] = T[mini,mini] / np.sqrt(alpha)\n",
    "        T[maxi, maxi] = T[maxi,maxi] * np.sqrt(alpha) \n",
    "\n",
    "        Qs = np.linalg.inv(S @ T).T @ D @ np.linalg.inv(S @ T) \n",
    "\n",
    "        return Qs\n"
   ]
  },
  {
   "cell_type": "code",
   "execution_count": 242,
   "id": "ac9e2894",
   "metadata": {},
   "outputs": [
    {
     "name": "stdout",
     "output_type": "stream",
     "text": [
      "[-2.37419683 -2.05774502 -1.64242804 -0.73824376 -0.18529611  0.65084064\n",
      "  0.88330629  1.91290143  1.76424631  1.42440021]\n",
      "12.812987786417045\n",
      "12.812987786417038\n",
      "(tensor(-3.09334025, requires_grad=True), [tensor([1, 0, 1, 0, 0, 1, 1, 0, 1, 1], requires_grad=True)], 0.15245890617370605)\n",
      "(tensor(-0.4307361, requires_grad=True), [tensor([1, 0, 1, 0, 0, 1, 1, 1, 1, 0], requires_grad=True)], 0.14336729049682617)\n"
     ]
    }
   ],
   "source": [
    "\n",
    "\n",
    "prep = Preparator()\n",
    "\n",
    "dev = qml.device('default.qubit', wires = 10, shots = 1000)\n",
    "sol = Solver (dev = dev, gate = 'X')\n",
    "\n",
    "Q = np.random.uniform(low = -1, high = 1, size = (10,10)) \n",
    "Q = (Q.T + Q)/2\n",
    "print(np.linalg.eigvals(Q))\n",
    "#Q = prep.stiffnessPreparator(size = 10, stiffness = 100)\n",
    "\n",
    "eigs = np.abs(np.linalg.eigvals(Q))\n",
    "\n",
    "print(np.max(eigs) / np.min(eigs))\n",
    "\n",
    "Qstiffed = _stiff_boost(Q, alpha = 10)\n",
    "\n",
    "eigs = np.abs(np.linalg.eigvals(Qstiffed))\n",
    "\n",
    "print(np.max(eigs) / np.min(eigs))\n",
    "print(sol.checkQUBO(Q))\n",
    "print(sol.checkQUBO(Qstiffed))"
   ]
  },
  {
   "cell_type": "code",
   "execution_count": null,
   "id": "0473a543",
   "metadata": {},
   "outputs": [
    {
     "name": "stdout",
     "output_type": "stream",
     "text": [
      "(tensor(-2.8361001, requires_grad=True), [tensor([1, 0, 1, 0, 1, 1, 1, 0, 1, 0], requires_grad=True)], 0.16142797470092773)\n",
      "(tensor(-0.00152623, requires_grad=True), [tensor([0, 0, 0, 1, 1, 1, 1, 0, 1, 0], requires_grad=True)], 0.16728591918945312)\n"
     ]
    }
   ],
   "source": []
  }
 ],
 "metadata": {
  "kernelspec": {
   "display_name": ".venv (3.12.3)",
   "language": "python",
   "name": "python3"
  },
  "language_info": {
   "codemirror_mode": {
    "name": "ipython",
    "version": 3
   },
   "file_extension": ".py",
   "mimetype": "text/x-python",
   "name": "python",
   "nbconvert_exporter": "python",
   "pygments_lexer": "ipython3",
   "version": "3.12.3"
  }
 },
 "nbformat": 4,
 "nbformat_minor": 5
}
