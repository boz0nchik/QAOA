{
 "cells": [
  {
   "cell_type": "code",
   "execution_count": 36,
   "id": "9dc6d9fc",
   "metadata": {},
   "outputs": [
    {
     "name": "stdout",
     "output_type": "stream",
     "text": [
      "CPU : 44.9 %\n",
      "scputimes(user=44.5, nice=0.0, system=0.4, idle=55.1, iowait=0.0, irq=0.0, softirq=0.0, steal=0.0, guest=0.0, guest_nice=0.0)\n",
      "mem : 53.79168701171875 GB\n"
     ]
    },
    {
     "data": {
      "text/plain": [
       "43.7"
      ]
     },
     "execution_count": 36,
     "metadata": {},
     "output_type": "execute_result"
    }
   ],
   "source": [
    "\n",
    "#!/usr/bin/env python\n",
    "import psutil\n",
    "# gives a single float value\n",
    "print(f'CPU : {psutil.cpu_percent()} %')\n",
    "print(psutil.cpu_times_percent())\n",
    "# gives an object with many fields\n",
    "print (f'mem : {psutil.virtual_memory().used/ 8589934592 * 8} GB')\n",
    "# you can convert that object to a dictionary\n",
    "dict(psutil.virtual_memory()._asdict())\n",
    "# you can have the percentage of used RAM\n",
    "psutil.virtual_memory().percent"
   ]
  }
 ],
 "metadata": {
  "kernelspec": {
   "display_name": ".venv (3.12.3)",
   "language": "python",
   "name": "python3"
  },
  "language_info": {
   "codemirror_mode": {
    "name": "ipython",
    "version": 3
   },
   "file_extension": ".py",
   "mimetype": "text/x-python",
   "name": "python",
   "nbconvert_exporter": "python",
   "pygments_lexer": "ipython3",
   "version": "3.12.3"
  }
 },
 "nbformat": 4,
 "nbformat_minor": 5
}
