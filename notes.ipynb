{
 "cells": [
  {
   "cell_type": "markdown",
   "id": "e6dd7449",
   "metadata": {},
   "source": [
    "[ ] Quantum circuit ansatzes : patterns of abstraction - catalog of ansatzes \n",
    "    - stole HEA from here\n",
    "\n",
    "[ ] Improving VQA with CVaR\n",
    "    - stole CVaR from here also checked profit \n",
    "\n",
    "[ ] From QAOA to QAOA - general alternating approach \n",
    "    - just checking QAOA mappings of possible problems and a new look to QAOA \n",
    "\n",
    "[ ] QAOA Review \n",
    "    - MA structure from here \n",
    "    \n",
    "[ ] \n",
    "\n"
   ]
  }
 ],
 "metadata": {
  "language_info": {
   "name": "python"
  }
 },
 "nbformat": 4,
 "nbformat_minor": 5
}
