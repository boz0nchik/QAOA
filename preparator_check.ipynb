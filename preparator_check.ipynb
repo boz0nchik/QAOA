{
 "cells": [
  {
   "cell_type": "code",
   "execution_count": 2,
   "id": "678cab12",
   "metadata": {},
   "outputs": [
    {
     "name": "stderr",
     "output_type": "stream",
     "text": [
      "/mnt/Computing/I_Fomin/QAOA/preparator.py:119: SyntaxWarning: invalid escape sequence '\\k'\n",
      "  '''\n"
     ]
    }
   ],
   "source": [
    "from preparator import Preparator \n",
    "import numpy as np"
   ]
  },
  {
   "cell_type": "code",
   "execution_count": 13,
   "id": "febef843",
   "metadata": {},
   "outputs": [
    {
     "name": "stdout",
     "output_type": "stream",
     "text": [
      "99.99999999999986\n"
     ]
    }
   ],
   "source": [
    "prep = Preparator()\n",
    "\n",
    "matrix = prep.stiffnessPreparator(4, 100)\n",
    "\n",
    "eig = np.linalg.eigvals(matrix)\n",
    "# print(matrix)\n",
    "print(max(np.abs(eig)) / min(np.abs(eig)))\n",
    "\n",
    "# print(np.allclose(matrix,matrix.T))\n",
    "\n",
    "\n"
   ]
  }
 ],
 "metadata": {
  "kernelspec": {
   "display_name": ".venv (3.12.3)",
   "language": "python",
   "name": "python3"
  },
  "language_info": {
   "codemirror_mode": {
    "name": "ipython",
    "version": 3
   },
   "file_extension": ".py",
   "mimetype": "text/x-python",
   "name": "python",
   "nbconvert_exporter": "python",
   "pygments_lexer": "ipython3",
   "version": "3.12.3"
  }
 },
 "nbformat": 4,
 "nbformat_minor": 5
}
