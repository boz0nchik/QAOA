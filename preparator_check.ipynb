{
 "cells": [
  {
   "cell_type": "code",
   "execution_count": 1,
   "id": "678cab12",
   "metadata": {},
   "outputs": [],
   "source": [
    "from preparator import Preparator \n",
    "import numpy as np"
   ]
  },
  {
   "cell_type": "code",
   "execution_count": 99,
   "id": "febef843",
   "metadata": {},
   "outputs": [
    {
     "name": "stdout",
     "output_type": "stream",
     "text": [
      "[[ 0.49265825 -1.          0.78503109  0.59423334]\n",
      " [-1.         -0.04892313  0.06530594 -0.88912434]\n",
      " [ 0.78503109  0.06530594 -0.51047953  0.03249062]\n",
      " [ 0.59423334 -0.88912434  0.03249062 -0.26488166]]\n",
      "144.98278239286248\n",
      "True\n"
     ]
    }
   ],
   "source": [
    "prep = Preparator()\n",
    "\n",
    "matrix = prep.stiffnessPreparator(4, 100)\n",
    "\n",
    "eig = np.linalg.eigvals(matrix)\n",
    "print(matrix)\n",
    "print(max(np.abs(eig)) / min(np.abs(eig)))\n",
    "print(np.allclose(matrix,matrix.T))\n",
    "\n",
    "\n"
   ]
  }
 ],
 "metadata": {
  "kernelspec": {
   "display_name": ".venv (3.12.3)",
   "language": "python",
   "name": "python3"
  },
  "language_info": {
   "codemirror_mode": {
    "name": "ipython",
    "version": 3
   },
   "file_extension": ".py",
   "mimetype": "text/x-python",
   "name": "python",
   "nbconvert_exporter": "python",
   "pygments_lexer": "ipython3",
   "version": "3.12.3"
  }
 },
 "nbformat": 4,
 "nbformat_minor": 5
}
