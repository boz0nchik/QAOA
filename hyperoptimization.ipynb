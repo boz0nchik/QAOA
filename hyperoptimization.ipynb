{
 "cells": [
  {
   "cell_type": "code",
   "execution_count": 26,
   "id": "697e71d9",
   "metadata": {},
   "outputs": [],
   "source": [
    "from logger import Logger\n",
    "from preparator import Preparator \n",
    "from solver import Solver \n",
    "import pandas as pd \n",
    "from tqdm import tqdm \n",
    "from datetime import datetime\n",
    "\n",
    "import pennylane as qml \n",
    "from pennylane import numpy as np\n",
    "testdev = qml.device('default.qubit', wires = 1)"
   ]
  },
  {
   "cell_type": "code",
   "execution_count": 14,
   "id": "1fc43516",
   "metadata": {},
   "outputs": [],
   "source": [
    "size = 10\n",
    "matrix_number = 1000\n",
    "source_name = 'Traininig_size_{size}.csv'\n",
    "\n",
    "template = pd.read_csv('data/template.csv')"
   ]
  },
  {
   "cell_type": "code",
   "execution_count": 7,
   "id": "68b10fe7",
   "metadata": {},
   "outputs": [
    {
     "name": "stdout",
     "output_type": "stream",
     "text": [
      "Logfile data/train/Traininig_size_10.csv already exists\n"
     ]
    }
   ],
   "source": [
    "# Prepare train datasets\n",
    "log = Logger (log_template = template, log_path = f'data/train/{source_name.format(size = size)}')\n",
    "exists = log.create_logfile()"
   ]
  },
  {
   "cell_type": "code",
   "execution_count": 29,
   "id": "fbc70c37",
   "metadata": {},
   "outputs": [],
   "source": [
    "log_file, id = log._load_logfile()\n",
    "\n",
    "prep = Preparator()\n",
    "\n",
    "# for i in tqdm(range(matrix_number), desc = f\"Generating random matrices with size {size}\"):\n",
    "    \n",
    "#     id += 1\n",
    "#     matrix = prep.rankPreparator(size = size, rank = size)\n",
    "#     current_datetime = datetime.now()\n",
    "#     data = { \n",
    "#         'Id (int)' : id, \n",
    "#         'Valid (int)' : 1, \n",
    "#         'Updated (str)' : current_datetime.strftime(\"%Y-%m-%d %H:%M:%S\"),\n",
    "#         'Matrix (mat)' : matrix,\n",
    "#         'Size (int)' : size,\n",
    "#         'Type (str)' : 'Random',\n",
    "#         'Rank (int)' : size,\n",
    "#         'Density (flt)' : -1.0,\n",
    "#         'Stiffness (flt)' : -1.0,\n",
    "#         'Other (flt)' : -1.0,\n",
    "#         'Test_solver (str)' : '-',\n",
    "#         'Test (flt)' : -1.0,\n",
    "#         'Test_state (vec)' : [],\n",
    "#         'Test_iterations (int)' : -1,\n",
    "#         'Test_time (flt)' : -1.0,\n",
    "#         'Train_solver (str)' : '-',\n",
    "#         'Preprocessing (str)' : '-',\n",
    "#         'Postprocessing (str)' : '-',\n",
    "#         'Train (flt)' : -1.0,\n",
    "#         'Train_state (vec)' : [],\n",
    "#         'Train_iterations_1 (int)' : -1,\n",
    "#         'Train_iterations_2 (int)' : -1,\n",
    "#         'Train_iterations_3 (int)' : -1,\n",
    "#         'Train_shots (int)': -1, \n",
    "#         'Train_cost (flt)' : -1.0,\n",
    "#         'Train_time (flt)' : -1.0, \n",
    "#         'Flags (str)' : ''\n",
    "#     }\n",
    "    \n",
    "#     log.log(data)\n",
    "\n"
   ]
  },
  {
   "cell_type": "code",
   "execution_count": 37,
   "id": "614aaa60",
   "metadata": {},
   "outputs": [],
   "source": [
    "\n",
    "def test (ids : np.ndarray, solver : str = 'bruteforce', log_data : bool = False):\n",
    "\n",
    "    ''' \n",
    "    ids : np.ndarray \n",
    "        a list of ids to compute \n",
    "    solver : str \n",
    "        solver to compute with \n",
    "    ''' \n",
    "    \n",
    "    tester = Solver(dev = testdev, ansatz = '')\n",
    "\n",
    "    for id in tqdm.tqdm(ids, desc = f\"Testing matrices with ids {min(ids)} <--> {max(ids)}\"):\n",
    "\n",
    "        data = log.read(id)\n",
    "\n",
    "        \n",
    "        def test_solver(Q : np.ndarray, solver : str = 'bruteforce'): \n",
    "            ''' \n",
    "            tester wrapped\n",
    "            '''\n",
    "\n",
    "            match solver: \n",
    "                case 'bruteforce':\n",
    "                    J, h = prep.isingForm(Q)\n",
    "                    return tester.checkIsing(J, h)\n",
    "                case 'GW':\n",
    "                    pass\n",
    "                case 'Annealing': \n",
    "                    pass\n",
    "            \n",
    "        Q = data['Matrix (mat)']\n",
    "\n",
    "        tested_data = data.copy()\n",
    "        \n",
    "        test, test_state, test_time = test_solver(Q)\n",
    "        current_datetime = datetime.now()\n",
    "\n",
    "        tested_data['Test (flt)'] = test \n",
    "        tested_data['Test_state (vec)'] = test_state[0].numpy()\n",
    "        tested_data['Test_time (flt)'] = test_time\n",
    "        tested_data['Test_solver (flt)'] = solver\n",
    "        tested_data['Updated (str)'] = current_datetime.strftime(\"%Y-%m-%d %H:%M:%S\")\n",
    " \n",
    "        if (log_data): log.log(tested_data, byid = True, Id = id)\n",
    "        else: \n",
    "            return tested_data"
   ]
  },
  {
   "cell_type": "code",
   "execution_count": 34,
   "id": "0e8ae993",
   "metadata": {},
   "outputs": [],
   "source": [
    "\n",
    "ids = range (1,4)\n",
    "number_of_solvers = 3 \n",
    "poolsize = len(ids)//number_of_solvers"
   ]
  },
  {
   "cell_type": "code",
   "execution_count": null,
   "id": "c54aee71",
   "metadata": {},
   "outputs": [
    {
     "data": {
      "text/plain": [
       "tensor([[1],\n",
       "        [2],\n",
       "        [3]], requires_grad=True)"
      ]
     },
     "metadata": {},
     "output_type": "display_data"
    },
    {
     "name": "stdout",
     "output_type": "stream",
     "text": [
      "[(tensor([1], requires_grad=True), 'bruteforce'), (tensor([2], requires_grad=True), 'bruteforce'), (tensor([3], requires_grad=True), 'bruteforce')]\n"
     ]
    }
   ],
   "source": [
    "\n",
    "from multiprocessing import Pool\n",
    "from functools import partial\n",
    "\n",
    "if (__name__ == '__main__') and (len(ids) % poolsize == 0): \n",
    "    \n",
    "    solvers = [] \n",
    "\n",
    "    ids = np.array(ids) \n",
    "    index = 0\n",
    "    pool_ids = ids.reshape(len(ids) // poolsize, poolsize)\n",
    "    display(pool_ids)\n",
    "\n",
    "    args = []\n",
    "    for i in range (len(pool_ids)):\n",
    "        if (size > 11):\n",
    "            args.append((pool_ids[i], 'GW'))\n",
    "        else: \n",
    "            args.append((pool_ids[i], 'bruteforce'))\n",
    "    print(args)\n",
    "    with Pool(number_of_solvers) as pool:\n",
    "        processed_data = pool.starmap(test, args)\n",
    "\n",
    "for data in processed_data:\n",
    "    log.log(data = data, byid = True, Id = data['Id (int)'])\n",
    "\n",
    "# If the error occured you still can try get processed_data \n"
   ]
  }
 ],
 "metadata": {
  "kernelspec": {
   "display_name": "Python 3",
   "language": "python",
   "name": "python3"
  },
  "language_info": {
   "codemirror_mode": {
    "name": "ipython",
    "version": 3
   },
   "file_extension": ".py",
   "mimetype": "text/x-python",
   "name": "python",
   "nbconvert_exporter": "python",
   "pygments_lexer": "ipython3",
   "version": "3.13.5"
  }
 },
 "nbformat": 4,
 "nbformat_minor": 5
}
