{
 "cells": [
  {
   "cell_type": "code",
   "execution_count": 181,
   "id": "8ff706e2",
   "metadata": {},
   "outputs": [
    {
     "name": "stdout",
     "output_type": "stream",
     "text": [
      "100000.00000013743\n",
      "7422.552137970781\n"
     ]
    }
   ],
   "source": [
    "from preparator import Preparator\n",
    "import numpy as np \n",
    "\n",
    "prep = Preparator() \n",
    "\n",
    "Q = prep.stiffnessPreparator(size = 10, stiffness = 100000)\n",
    "\n",
    "J = prep.isingForm(Q)[0]\n",
    "\n",
    "eigQ = np.linalg.eigvals(Q)\n",
    "\n",
    "eigJ = np.linalg.eigvals(J)\n",
    "\n",
    "modQ = np.abs(eigQ) \n",
    "\n",
    "modJ = np.abs(eigJ)\n",
    "\n",
    "print(max(modQ) / min(modQ))\n",
    "\n",
    "print(max(modJ) / min(modJ))"
   ]
  }
 ],
 "metadata": {
  "kernelspec": {
   "display_name": ".venv (3.12.3)",
   "language": "python",
   "name": "python3"
  },
  "language_info": {
   "codemirror_mode": {
    "name": "ipython",
    "version": 3
   },
   "file_extension": ".py",
   "mimetype": "text/x-python",
   "name": "python",
   "nbconvert_exporter": "python",
   "pygments_lexer": "ipython3",
   "version": "3.12.3"
  }
 },
 "nbformat": 4,
 "nbformat_minor": 5
}
