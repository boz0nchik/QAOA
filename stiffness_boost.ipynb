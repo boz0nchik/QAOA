{
 "cells": [
  {
   "cell_type": "code",
   "execution_count": 179,
   "id": "31df5c31",
   "metadata": {},
   "outputs": [
    {
     "name": "stdout",
     "output_type": "stream",
     "text": [
      "35.3930179488812\n",
      "100000224711.70193\n",
      "delta : 0.09260172514214311\n",
      "original sol : [[0 0 1 1 1 0 1 1 1 1 1 1 1 1 0]]\n",
      "relaxed sol : [[0 0 1 1 1 0 1 1 1 1 1 1 1 1 0]]\n",
      "energy gap : old [[-17.55231876]] | new [[-17.55231876]]\n"
     ]
    }
   ],
   "source": [
    "import numpy as np\n",
    "from solver import Solver \n",
    "import pennylane as qml\n",
    "\n",
    "dev = qml.device('default.qubit', wires = 10, shots = 1000)\n",
    "\n",
    "sol = Solver(dev = dev)\n",
    "size = 15\n",
    "Q = np.random.uniform(size = (size,size), low = -1, high = 1)\n",
    "\n",
    "Q = (Q.T + Q) / 2\n",
    "\n",
    "orQ = Q \n",
    "\n",
    "eigs = np.linalg.eigvals(Q)\n",
    "print(np.max(np.abs(eigs)) / np.min(np.abs(eigs)))\n",
    "\n",
    "for i in range (len(eigs)):\n",
    "    if (np.abs(eigs[i]) == np.min(np.abs(eigs))):\n",
    "        mini = i \n",
    "    if (np.abs(eigs[i]) == np.max(np.abs(eigs))):\n",
    "        maxi = i\n",
    "\n",
    "\n",
    "\n",
    "alpha = 100000000000\n",
    "\n",
    "delta = (eigs[mini] * alpha - eigs[maxi]) / (alpha - 1) \n",
    "\n",
    "orsol = np.array(sol.checkQUBO(Q)[1])\n",
    "\n",
    "\n",
    "Q = Q - np.identity(size) * delta\n",
    "\n",
    "newsol = np.array(sol.checkQUBO(Q)[1])\n",
    "\n",
    "eigs = np.linalg.eigvals(Q)\n",
    "print(np.max(np.abs(eigs)) / np.min(np.abs(eigs)))\n",
    "\n",
    "\n",
    "print (f'delta : {delta}')\n",
    "print(f'original sol : {orsol}')\n",
    "print(f'relaxed sol : {newsol}')\n",
    "\n",
    "print(f'energy gap : old {orsol @ orQ @ orsol.T} | new {newsol @ orQ @ newsol.T}')\n"
   ]
  },
  {
   "cell_type": "code",
   "execution_count": null,
   "id": "2891f957",
   "metadata": {},
   "outputs": [],
   "source": []
  }
 ],
 "metadata": {
  "kernelspec": {
   "display_name": ".venv (3.12.3)",
   "language": "python",
   "name": "python3"
  },
  "language_info": {
   "codemirror_mode": {
    "name": "ipython",
    "version": 3
   },
   "file_extension": ".py",
   "mimetype": "text/x-python",
   "name": "python",
   "nbconvert_exporter": "python",
   "pygments_lexer": "ipython3",
   "version": "3.12.3"
  }
 },
 "nbformat": 4,
 "nbformat_minor": 5
}
