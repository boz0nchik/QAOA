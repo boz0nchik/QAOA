{
 "cells": [
  {
   "cell_type": "code",
   "execution_count": 1,
   "id": "ef255e16",
   "metadata": {},
   "outputs": [],
   "source": [
    "import numpy as np"
   ]
  },
  {
   "cell_type": "code",
   "execution_count": 23,
   "id": "89365876",
   "metadata": {},
   "outputs": [
    {
     "name": "stdout",
     "output_type": "stream",
     "text": [
      "[-0.38739375  0.73386369 -0.55800316  0.00162307]\n",
      "[0.81224802 0.55714634 0.16893848 0.03606804]\n"
     ]
    }
   ],
   "source": [
    "Q = np.random.uniform(low = -1, high = 1, size = [4,4])\n",
    "\n",
    "Q = (Q.T + Q) / 2\n",
    "\n",
    "eigenvec = np.linalg.eig(Q)[1]\n",
    "\n",
    "print(eigenvec[0])\n",
    "print(eigenvec[1])"
   ]
  },
  {
   "cell_type": "code",
   "execution_count": 35,
   "id": "9f632036",
   "metadata": {},
   "outputs": [
    {
     "name": "stdout",
     "output_type": "stream",
     "text": [
      "2.7755575615628914e-16\n"
     ]
    }
   ],
   "source": [
    "print(np.dot(eigenvec[0],eigenvec[1]))"
   ]
  }
 ],
 "metadata": {
  "kernelspec": {
   "display_name": ".venv (3.12.3)",
   "language": "python",
   "name": "python3"
  },
  "language_info": {
   "codemirror_mode": {
    "name": "ipython",
    "version": 3
   },
   "file_extension": ".py",
   "mimetype": "text/x-python",
   "name": "python",
   "nbconvert_exporter": "python",
   "pygments_lexer": "ipython3",
   "version": "3.12.3"
  }
 },
 "nbformat": 4,
 "nbformat_minor": 5
}
