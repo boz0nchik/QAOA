{
 "cells": [
  {
   "cell_type": "code",
   "execution_count": 22,
   "id": "fa4ccdfe",
   "metadata": {},
   "outputs": [
    {
     "name": "stdout",
     "output_type": "stream",
     "text": [
      "4.040106381064501\n"
     ]
    }
   ],
   "source": [
    "from preparator import Preparator \n",
    "import numpy as np\n",
    "\n",
    "prep = Preparator()\n",
    "Ms = []\n",
    "for _ in range (10000):\n",
    "\n",
    "    matrix = np.random.uniform(low = -1, high = 1, size = [10,10])\n",
    "    M = prep.penalty_weight(matrix, 1, 'MOMC')\n",
    "    Ms.append(M)\n",
    "print(np.mean(M))"
   ]
  }
 ],
 "metadata": {
  "kernelspec": {
   "display_name": ".venv (3.12.3)",
   "language": "python",
   "name": "python3"
  },
  "language_info": {
   "codemirror_mode": {
    "name": "ipython",
    "version": 3
   },
   "file_extension": ".py",
   "mimetype": "text/x-python",
   "name": "python",
   "nbconvert_exporter": "python",
   "pygments_lexer": "ipython3",
   "version": "3.12.3"
  }
 },
 "nbformat": 4,
 "nbformat_minor": 5
}
