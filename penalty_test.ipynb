{
 "cells": [
  {
   "cell_type": "code",
   "execution_count": 6,
   "id": "eabd1e13",
   "metadata": {},
   "outputs": [],
   "source": [
    "import numpy as np "
   ]
  },
  {
   "cell_type": "code",
   "execution_count": 98,
   "id": "34c95df6",
   "metadata": {},
   "outputs": [],
   "source": [
    "matrix = np.random.uniform(high = 1, low = -1, size = [10,10])"
   ]
  },
  {
   "cell_type": "code",
   "execution_count": 137,
   "id": "fa4ccdfe",
   "metadata": {},
   "outputs": [
    {
     "name": "stdout",
     "output_type": "stream",
     "text": [
      "MQC : 0.975254446487164\n",
      "VLM : 4.563512465757988\n",
      "MOC : 1.5211708219193294\n",
      "MOMC : 1.5211708219193294\n"
     ]
    }
   ],
   "source": [
    "from preparator import Preparator\n",
    "\n",
    "prep = Preparator()\n",
    "Ms = []\n",
    "\n",
    "\n",
    "print(f'MQC : {prep.penalty_weight(matrix, 4, 'MQC')}')\n",
    "print(f'VLM : {prep.penalty_weight(matrix, 4, 'VLM')}')\n",
    "print(f'MOC : {prep.penalty_weight(matrix, 2, 'MOC')}')\n",
    "print(f'MOMC : {prep.penalty_weight(matrix, 2, 'MOMC')}')"
   ]
  }
 ],
 "metadata": {
  "kernelspec": {
   "display_name": ".venv (3.12.3)",
   "language": "python",
   "name": "python3"
  },
  "language_info": {
   "codemirror_mode": {
    "name": "ipython",
    "version": 3
   },
   "file_extension": ".py",
   "mimetype": "text/x-python",
   "name": "python",
   "nbconvert_exporter": "python",
   "pygments_lexer": "ipython3",
   "version": "3.12.3"
  }
 },
 "nbformat": 4,
 "nbformat_minor": 5
}
